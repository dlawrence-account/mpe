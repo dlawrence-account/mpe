{
 "cells": [
  {
   "cell_type": "markdown",
   "metadata": {},
   "source": [
    "# MF-DFA Demonstration\n",
    "This notebook runs the multifractal DFA using the code module."
   ]
  },
  {
   "cell_type": "code",
   "metadata": {},
   "source": [
    "import sys\n",
    "# Ensure Python can import from the same folder\n",
    "sys.path.append('Multifractals')\n",
    "import mfdfa\n",
    "import pandas as pd"
   ]
  },
  {
   "cell_type": "code",
   "metadata": {},
   "source": [
    "# Load and preprocess\n",
    "df = mfdfa.load_and_price(\n",
    "    'Multifractals/nasdaq_100_historical_data_full.csv', sample_step=5\n",
    ")\n",
    "df.head()"
   ]
  },
  {
   "cell_type": "code",
   "metadata": {},
   "source": [
    "returns = df['WeeklyReturn'].values\n",
    "q_list = [-2, 0, 2, 3]\n",
    "tau_max = 20\n",
    "Sq = mfdfa.compute_Sq(returns, q_list, tau_max)\n",
    "H, lam, zeta = mfdfa.estimate_zeta_and_lambda(Sq, q_list)\n",
    "alpha = mfdfa.fit_central_alpha(returns)\n",
    "alpha_hill, alpha_pot = mfdfa.estimate_far_tail_alpha(returns)\n",
    "print(f\"(alpha, alpha_ft, H, lambda)=({alpha:.4f}, {alpha_hill:.4f}, {H:.4f}, {lam:.4f})\")"
   ]
  }
 ],
 "metadata": {
  "kernelspec": {
   "name": "python3",
   "display_name": "Python 3"
  }
 },
 "nbformat": 4,
 "nbformat_minor": 2
}
